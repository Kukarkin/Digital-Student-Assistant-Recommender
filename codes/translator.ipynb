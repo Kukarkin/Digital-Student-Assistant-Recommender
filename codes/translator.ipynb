{
  "nbformat": 4,
  "nbformat_minor": 0,
  "metadata": {
    "colab": {
      "name": "trans.ipynb",
      "provenance": [],
      "collapsed_sections": []
    },
    "kernelspec": {
      "name": "python3",
      "display_name": "Python 3"
    },
    "language_info": {
      "name": "python"
    }
  },
  "cells": [
    {
      "cell_type": "code",
      "source": [
        "!!pip install googletrans==3.1.0a0"
      ],
      "metadata": {
        "colab": {
          "base_uri": "https://localhost:8080/"
        },
        "id": "1MSolVKglHpe",
        "outputId": "156faf11-87cc-4b0f-ceca-4b85e9f75de0"
      },
      "execution_count": 1,
      "outputs": [
        {
          "output_type": "execute_result",
          "data": {
            "text/plain": [
              "['Requirement already satisfied: googletrans==3.1.0a0 in /usr/local/lib/python3.7/dist-packages (3.1.0a0)',\n",
              " 'Requirement already satisfied: httpx==0.13.3 in /usr/local/lib/python3.7/dist-packages (from googletrans==3.1.0a0) (0.13.3)',\n",
              " 'Requirement already satisfied: httpcore==0.9.* in /usr/local/lib/python3.7/dist-packages (from httpx==0.13.3->googletrans==3.1.0a0) (0.9.1)',\n",
              " 'Requirement already satisfied: certifi in /usr/local/lib/python3.7/dist-packages (from httpx==0.13.3->googletrans==3.1.0a0) (2021.10.8)',\n",
              " 'Requirement already satisfied: chardet==3.* in /usr/local/lib/python3.7/dist-packages (from httpx==0.13.3->googletrans==3.1.0a0) (3.0.4)',\n",
              " 'Requirement already satisfied: rfc3986<2,>=1.3 in /usr/local/lib/python3.7/dist-packages (from httpx==0.13.3->googletrans==3.1.0a0) (1.5.0)',\n",
              " 'Requirement already satisfied: hstspreload in /usr/local/lib/python3.7/dist-packages (from httpx==0.13.3->googletrans==3.1.0a0) (2021.12.1)',\n",
              " 'Requirement already satisfied: idna==2.* in /usr/local/lib/python3.7/dist-packages (from httpx==0.13.3->googletrans==3.1.0a0) (2.10)',\n",
              " 'Requirement already satisfied: sniffio in /usr/local/lib/python3.7/dist-packages (from httpx==0.13.3->googletrans==3.1.0a0) (1.2.0)',\n",
              " 'Requirement already satisfied: h2==3.* in /usr/local/lib/python3.7/dist-packages (from httpcore==0.9.*->httpx==0.13.3->googletrans==3.1.0a0) (3.2.0)',\n",
              " 'Requirement already satisfied: h11<0.10,>=0.8 in /usr/local/lib/python3.7/dist-packages (from httpcore==0.9.*->httpx==0.13.3->googletrans==3.1.0a0) (0.9.0)',\n",
              " 'Requirement already satisfied: hpack<4,>=3.0 in /usr/local/lib/python3.7/dist-packages (from h2==3.*->httpcore==0.9.*->httpx==0.13.3->googletrans==3.1.0a0) (3.0.0)',\n",
              " 'Requirement already satisfied: hyperframe<6,>=5.2.0 in /usr/local/lib/python3.7/dist-packages (from h2==3.*->httpcore==0.9.*->httpx==0.13.3->googletrans==3.1.0a0) (5.2.0)']"
            ]
          },
          "metadata": {},
          "execution_count": 1
        }
      ]
    },
    {
      "cell_type": "code",
      "source": [
        "import pandas as pd\n",
        "from googletrans import Translator\n",
        "import googletrans"
      ],
      "metadata": {
        "id": "Wufjpqv6koK6"
      },
      "execution_count": 2,
      "outputs": []
    },
    {
      "cell_type": "code",
      "source": [
        "translator = Translator()"
      ],
      "metadata": {
        "id": "aigqe6glk-jQ"
      },
      "execution_count": 3,
      "outputs": []
    },
    {
      "cell_type": "code",
      "execution_count": 4,
      "metadata": {
        "id": "CDtpwU2Jkk0e"
      },
      "outputs": [],
      "source": [
        "dtf = pd.read_csv(\"names (2).csv\")"
      ]
    },
    {
      "cell_type": "code",
      "source": [
        "names = dtf.values.tolist()"
      ],
      "metadata": {
        "id": "Gv6dzLezlifL"
      },
      "execution_count": 25,
      "outputs": []
    },
    {
      "cell_type": "code",
      "source": [
        "#names = ['Bienvenu', 'Comment allez-vous', 'je vais bien']"
      ],
      "metadata": {
        "id": "6087nxDJmsu6"
      },
      "execution_count": 6,
      "outputs": []
    },
    {
      "cell_type": "code",
      "source": [
        "def flatten(t):\n",
        "    return [item for sublist in t for item in sublist]"
      ],
      "metadata": {
        "id": "eRFL1OJDpFcr"
      },
      "execution_count": 26,
      "outputs": []
    },
    {
      "cell_type": "code",
      "source": [
        "\n",
        "result = translator.translate(flatten(names), dest='ru')\n"
      ],
      "metadata": {
        "id": "kgHd4Q3Uk4g7"
      },
      "execution_count": 27,
      "outputs": []
    },
    {
      "cell_type": "code",
      "source": [
        "translated_names = []\n",
        "for trans in result:\n",
        "    translated_names.append(trans.text)"
      ],
      "metadata": {
        "id": "SdTnDg-anshN"
      },
      "execution_count": 32,
      "outputs": []
    },
    {
      "cell_type": "code",
      "source": [
        "translated_names"
      ],
      "metadata": {
        "colab": {
          "base_uri": "https://localhost:8080/"
        },
        "id": "R0kCMiFIqwVl",
        "outputId": "b6e785e5-a7c2-4add-a9e5-5d5c0b5f2088"
      },
      "execution_count": 33,
      "outputs": [
        {
          "output_type": "execute_result",
          "data": {
            "text/plain": [
              "['Археологическое и этнографическое исследование Южного Сахалина в конце XIX – начале XX вв.',\n",
              " 'НИУ ВШЭ',\n",
              " 'Дизайн контента для социальных сетей НИУ ВШЭ',\n",
              " 'Инфляция оценок: изучение мнения студентов',\n",
              " 'Колымский край как место памяти о советском',\n",
              " 'Основные направления трансформации дипломатии в условиях информационной революции: от цифровой дипломатии к дипломатии данных',\n",
              " 'Отбор заявок на конкурс «Кадровый акселератор «Преподаватели-практики для бизнес-образования»',\n",
              " 'Подкаст о ментальном здоровье',\n",
              " 'Продвижение олимпиад НИУ ВШЭ в социальных сетях',\n",
              " 'Проект по подготовке ридеров (обзоров), посвященных актуальным политико-правовым проблемам',\n",
              " 'Сопоставление названий компаний для анализа экономических рынков',\n",
              " 'Стартап: современное BI решение, комбинирующее SQL, Python, R и визуальную аналитику',\n",
              " 'Эволюция и перспективы внешней политики США и российско-американских отношений в контексте украинского кризиса',\n",
              " 'Литературный акустический вечер',\n",
              " 'Резиденты Высшей школы бизнеса',\n",
              " 'Модерирование секций всероссийского конкурса школьников, проводимых в формате Blended Learning',\n",
              " 'Цифровые платформы: право и человек',\n",
              " 'Цифровые платформы: право и экономика',\n",
              " '«Эстетика Вышки»: развитие страницы «ВКонтакте» о корпусах НИУ ВШЭ',\n",
              " 'Исследование моделей взаимодействия преподавателей ВУЗов и других участников при разработке онлайн курсов и выявление направлений трансформации академической профессии в условиях цифровизации высшего образования в России',\n",
              " 'Создание обновленного сайта Сообщества профессиональных социологов',\n",
              " 'Третья миссия университета (В рамках Программы развития НИУ ВШЭ-2030)',\n",
              " 'Цикл встреч с целью профессионального развития и консолидации профессионального сообщества для специалистов человекоцентрированного подхода',\n",
              " 'Фольклорная традиция Лухского района Ивановской области',\n",
              " 'Исследование потенциала развития коммуникаций между институтами гражданского общества России и стран Центральной Азии',\n",
              " 'Подготовка сборника эссе по искусству Кореи',\n",
              " 'Поиск публикаций по теме “Внедрение антикоррупционного комплаенса в систему корпоративного обучения”',\n",
              " 'Поиск публикаций по теме “Использование методов ИИ при осуществлении антикоррупционной экспертизы и корректировка дата сета”',\n",
              " 'Поиск публикаций по теме “Международные правовые документы и международные стандарты в области противодействия коррупции”',\n",
              " 'Реализация бизнес-решений для медиа FAVOT.ru',\n",
              " 'Экспедиция в Великий Новгород \"Эпиграфическое и рукописное наследие древнего Новгорода\"',\n",
              " 'Социальные сети: сопровождение и дизайн',\n",
              " 'Ведение документооборота по грантам для стартап-студии Scanderm',\n",
              " 'Маркетолог и аналитик данных образовательного проекта стартап-студии Scanderm и Департамента Инноваций Москвы',\n",
              " 'Разработка мобильного приложения для контроля ментального состояния для Android',\n",
              " 'Разработка брендинга и фирменного стиля для стартап-студии Scanderm',\n",
              " 'Христианские древности Карачаево-Черкесии: пятая археологическая экспедиция',\n",
              " 'Техническое сопровождение приемной кампании - 2022',\n",
              " 'Создание видео-сюжетов для курса «Организация работы преподавателя в системе поддержки учебного процесса Smart LMS НИУ ВШЭ: базовый курс»',\n",
              " 'Поэзия жанра хайку как фактор конвергенции культур Востока и Запада',\n",
              " 'Маркетинговые исследования туристического рынка в России по данным социальных сетей',\n",
              " '«Религия и власть» (расшифровка семинаров фундаментального проекта ФГН «Религии мира: традиции и тексты»).']"
            ]
          },
          "metadata": {},
          "execution_count": 33
        }
      ]
    }
  ]
}