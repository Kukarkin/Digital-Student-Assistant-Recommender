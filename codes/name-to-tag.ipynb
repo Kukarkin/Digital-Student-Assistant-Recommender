{
  "nbformat": 4,
  "nbformat_minor": 0,
  "metadata": {
    "colab": {
      "name": "dp_2.ipynb",
      "provenance": [],
      "collapsed_sections": [
        "nrXn1TCt7Xng"
      ]
    },
    "kernelspec": {
      "name": "python3",
      "display_name": "Python 3"
    },
    "language_info": {
      "name": "python"
    }
  },
  "cells": [
    {
      "cell_type": "code",
      "execution_count": null,
      "metadata": {
        "id": "W2keMbsXROIU"
      },
      "outputs": [],
      "source": [
        "!pip3 install deeppavlov"
      ]
    },
    {
      "cell_type": "code",
      "source": [
        "import pandas as pd\n",
        "import numpy as np\n",
        "import ast\n",
        "import csv\n",
        "\n",
        "from deeppavlov.dataset_readers.basic_classification_reader import BasicClassificationDatasetReader\n",
        "from deeppavlov.dataset_iterators.basic_classification_iterator import BasicClassificationDatasetIterator\n",
        "from deeppavlov.models.preprocessors.str_lower import str_lower\n",
        "from deeppavlov.models.tokenizers.nltk_moses_tokenizer import NLTKMosesTokenizer"
      ],
      "metadata": {
        "id": "PpV_yskxRcCs"
      },
      "execution_count": null,
      "outputs": []
    },
    {
      "cell_type": "code",
      "source": [
        "df = pd.read_csv(\"./data/train.csv\")"
      ],
      "metadata": {
        "id": "aHxf6HFjRZAE"
      },
      "execution_count": null,
      "outputs": []
    },
    {
      "cell_type": "code",
      "source": [
        "simple_download(url=\"http://files.deeppavlov.ai/embeddings/glove.6B.100d.txt\", \n",
        "                destination=\"./glove.6B.100d.txt\")"
      ],
      "metadata": {
        "colab": {
          "base_uri": "https://localhost:8080/"
        },
        "id": "d_rXmeJ7SM6S",
        "outputId": "c2d9e991-cd3b-45d2-ebb3-b263c06cc18b"
      },
      "execution_count": null,
      "outputs": [
        {
          "output_type": "stream",
          "name": "stderr",
          "text": [
            "2022-06-09 17:25:33.686 INFO in 'deeppavlov.core.data.utils'['utils'] at line 95: Downloading from http://files.deeppavlov.ai/embeddings/glove.6B.100d.txt to glove.6B.100d.txt\n",
            "347MB [00:07, 46.8MB/s]\n"
          ]
        }
      ]
    },
    {
      "cell_type": "code",
      "source": [
        "embedder = GloVeEmbedder(load_path='./glove.6B.100d.txt',\n",
        "                         dim=100, pad_zero=True)"
      ],
      "metadata": {
        "colab": {
          "base_uri": "https://localhost:8080/"
        },
        "id": "KKSAfibXSOmK",
        "outputId": "26a7e926-a87f-4e61-be48-3cf33a34e5db"
      },
      "execution_count": null,
      "outputs": [
        {
          "output_type": "stream",
          "name": "stderr",
          "text": [
            "2022-06-09 17:25:41.931 INFO in 'deeppavlov.models.embedders.glove_embedder'['glove_embedder'] at line 52: [loading GloVe embeddings from `/content/glove.6B.100d.txt`]\n"
          ]
        }
      ]
    },
    {
      "cell_type": "markdown",
      "source": [
        "### Model"
      ],
      "metadata": {
        "id": "blHUwZ4FKAyP"
      }
    },
    {
      "cell_type": "code",
      "source": [
        "from deeppavlov.metrics.accuracy import sets_accuracy"
      ],
      "metadata": {
        "id": "w9ENIxpKKCW5"
      },
      "execution_count": null,
      "outputs": []
    },
    {
      "cell_type": "code",
      "source": [
        "from deeppavlov import build_model\n",
        "from deeppavlov import train_model"
      ],
      "metadata": {
        "id": "beDgWVDIKTum"
      },
      "execution_count": null,
      "outputs": []
    },
    {
      "cell_type": "code",
      "source": [
        "cnn_config = {\n",
        "  \"dataset_reader\": {\n",
        "    \"class_name\": \"basic_classification_reader\",\n",
        "    \"x\": \"title\",\n",
        "    \"y\": \"keywords\",\n",
        "    \"data_path\": \"./data\",\n",
        "    \"class_sep\": \", \"\n",
        "  },\n",
        "  \"dataset_iterator\": {\n",
        "    \"class_name\": \"basic_classification_iterator\",\n",
        "    \"seed\": 42,\n",
        "    \"split_seed\": 23,\n",
        "    \"field_to_split\": \"train\",\n",
        "    \"split_fields\": [\n",
        "      \"train\",\n",
        "      \"valid\"\n",
        "    ],\n",
        "    \"split_proportions\": [\n",
        "      0.9,\n",
        "      0.1\n",
        "    ]\n",
        "  },\n",
        "  \"chainer\": {\n",
        "    \"in\": [\n",
        "      \"x\"\n",
        "    ],\n",
        "    \"in_y\": [\n",
        "      \"y\"\n",
        "    ],\n",
        "    \"pipe\": [\n",
        "      {\n",
        "        \"id\": \"classes_vocab\",\n",
        "        \"class_name\": \"simple_vocab\",\n",
        "        \"fit_on\": [\n",
        "          \"y\"\n",
        "        ],\n",
        "        \"level\": \"token\",\n",
        "        \"save_path\": \"./data/classes.dict\",\n",
        "        \"load_path\": \"./data/classes.dict\",\n",
        "        \"in\": \"y\",\n",
        "        \"out\": \"y_ids\"\n",
        "      },\n",
        "      {\n",
        "        \"in\": \"x\",\n",
        "        \"out\": \"x_tok\",\n",
        "        \"id\": \"my_tokenizer\",\n",
        "        \"class_name\": \"nltk_tokenizer\",\n",
        "        \"tokenizer\": \"wordpunct_tokenize\"\n",
        "      },\n",
        "      {\n",
        "        \"in\": \"x_tok\",\n",
        "        \"out\": \"x_emb\",\n",
        "        \"id\": \"my_embedder\",\n",
        "        \"class_name\": \"glove\",\n",
        "        \"load_path\": \"./glove.6B.100d.txt\",\n",
        "        \"dim\": 100,\n",
        "        \"pad_zero\": True\n",
        "      },\n",
        "      {\n",
        "        \"in\": \"y_ids\",\n",
        "        \"out\": \"y_onehot\",\n",
        "        \"class_name\": \"one_hotter\",\n",
        "        \"depth\": \"#classes_vocab.len\",\n",
        "        \"single_vector\": True\n",
        "      },\n",
        "      {\n",
        "        \"in\": [\n",
        "          \"x_emb\"\n",
        "        ],\n",
        "        \"in_y\": [\n",
        "          \"y_onehot\"\n",
        "        ],\n",
        "        \"out\": [\n",
        "          \"y_pred_probas\"\n",
        "        ],\n",
        "        \"main\": True,\n",
        "        \"class_name\": \"keras_classification_model\",\n",
        "        \"last_layer_activation\": \"sigmoid\",\n",
        "        \"save_path\": \"./cnn_model_v1\",\n",
        "        \"load_path\": \"./cnn_model_v1\",\n",
        "        \"embedding_size\": \"#my_embedder.dim\",\n",
        "        \"n_classes\": \"#classes_vocab.len\",\n",
        "        \"kernel_sizes_cnn\": [\n",
        "          1,\n",
        "          2,\n",
        "          3\n",
        "        ],\n",
        "        \"filters_cnn\": 256,\n",
        "        \"optimizer\": \"Adam\",\n",
        "        \"learning_rate\": 0.01,\n",
        "        \"learning_rate_decay\": 0.1,\n",
        "        \"loss\": \"categorical_crossentropy\",\n",
        "        \"coef_reg_cnn\": 1e-4,\n",
        "        \"coef_reg_den\": 1e-4,\n",
        "        \"dropout_rate\": 0.5,\n",
        "        \"dense_size\": 100,\n",
        "        \"model_name\": \"cnn_model\"\n",
        "      },\n",
        "      {\n",
        "        \"in\": \"y_pred_probas\",\n",
        "        \"out\": \"y_pred_ids\",\n",
        "        \"class_name\": \"proba2labels\",\n",
        "        \"top_n\": 5\n",
        "      },\n",
        "      {\n",
        "        \"in\": \"y_pred_ids\",\n",
        "        \"out\": \"y_pred_labels\",\n",
        "        \"ref\": \"classes_vocab\"\n",
        "      }\n",
        "    ],\n",
        "    \"out\": [\n",
        "      \"y_pred_labels\"\n",
        "    ]\n",
        "  },\n",
        "  \"train\": {\n",
        "    \"epochs\": 10,\n",
        "    \"batch_size\": 64,\n",
        "    \"metrics\": [\n",
        "      \"sets_accuracy\",\n",
        "      \"f1_macro\",\n",
        "      {\n",
        "        \"name\": \"roc_auc\",\n",
        "        \"inputs\": [\"y_onehot\", \"y_pred_probas\"]\n",
        "      }\n",
        "    ],\n",
        "    \"validation_patience\": 5,\n",
        "    \"val_every_n_epochs\": 1,\n",
        "    \"log_every_n_epochs\": 1,\n",
        "    \"show_examples\": True,\n",
        "    \"validate_best\": True,\n",
        "    \"test_best\": False\n",
        "  }\n",
        "}\n"
      ],
      "metadata": {
        "id": "tY7wIqnuKXsq"
      },
      "execution_count": null,
      "outputs": []
    },
    {
      "cell_type": "code",
      "source": [
        "m = train_model(cnn_config)"
      ],
      "metadata": {
        "id": "yivlcWsRKp4E"
      },
      "execution_count": null,
      "outputs": []
    },
    {
      "cell_type": "code",
      "source": [
        "m(['Геймификация форума на движке XenForo'])"
      ],
      "metadata": {
        "id": "ZPT5zAGsLc3u",
        "colab": {
          "base_uri": "https://localhost:8080/"
        },
        "outputId": "d07e34c6-dd42-4786-c552-8c0adccf3a79"
      },
      "execution_count": null,
      "outputs": [
        {
          "output_type": "stream",
          "name": "stderr",
          "text": [
            "/usr/local/lib/python3.7/dist-packages/keras/engine/training_v1.py:2079: UserWarning: `Model.state_updates` will be removed in a future version. This property should not be used in TensorFlow 2.0, as `updates` are applied automatically.\n",
            "  updates=self.state_updates,\n"
          ]
        },
        {
          "output_type": "execute_result",
          "data": {
            "text/plain": [
              "[['Dockerfile', 'Docker', 'домашняя автоматизация', '3g', 'патентная система']]"
            ]
          },
          "metadata": {},
          "execution_count": 53
        }
      ]
    }
  ]
}